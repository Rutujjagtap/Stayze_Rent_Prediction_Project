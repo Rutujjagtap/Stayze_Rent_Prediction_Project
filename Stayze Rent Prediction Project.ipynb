{
 "cells": [
  {
   "cell_type": "markdown",
   "id": "ac436bb9",
   "metadata": {},
   "source": [
    "# STAYZE RENT PREDICTION PROJECT "
   ]
  },
  {
   "cell_type": "markdown",
   "id": "c52cfdd9",
   "metadata": {},
   "source": [
    "**Author: Rutuj Jagtap**  \n",
    "\n",
    "**Problem Statement:**  \n",
    "Stayze, a burgeoning real estate management company, aims to enhance its rental property management system through predictive analytics. The company seeks to develop a machine learning model that accurately forecasts rental prices for properties listed on its platform. The objective is to provide property owners and tenants with reliable rental price estimates, optimizing property occupancy rates and maximizing revenue for property owners.\n",
    "\n",
    "By implementing an effective rental price prediction model, Stayze seeks to enhance customer satisfaction, attract more property listings, optimize revenue streams for property owners, and establish itself as a leading platform in the competitive real estate market."
   ]
  },
  {
   "cell_type": "code",
   "execution_count": 1,
   "id": "8e1f2545",
   "metadata": {},
   "outputs": [],
   "source": [
    "#importing libraries\n",
    "\n",
    "import pandas as pd\n",
    "import matplotlib.pyplot as plt\n",
    "import seaborn as sns\n",
    "%matplotlib inline"
   ]
  },
  {
   "cell_type": "code",
   "execution_count": 2,
   "id": "4a4f7111",
   "metadata": {},
   "outputs": [
    {
     "data": {
      "text/html": [
       "<div>\n",
       "<style scoped>\n",
       "    .dataframe tbody tr th:only-of-type {\n",
       "        vertical-align: middle;\n",
       "    }\n",
       "\n",
       "    .dataframe tbody tr th {\n",
       "        vertical-align: top;\n",
       "    }\n",
       "\n",
       "    .dataframe thead th {\n",
       "        text-align: right;\n",
       "    }\n",
       "</style>\n",
       "<table border=\"1\" class=\"dataframe\">\n",
       "  <thead>\n",
       "    <tr style=\"text-align: right;\">\n",
       "      <th></th>\n",
       "      <th>id</th>\n",
       "      <th>name</th>\n",
       "      <th>host_name</th>\n",
       "      <th>neighbourhood_group</th>\n",
       "      <th>neighbourhood</th>\n",
       "      <th>latitude</th>\n",
       "      <th>longitude</th>\n",
       "      <th>room_type</th>\n",
       "      <th>price</th>\n",
       "      <th>minimum_nights</th>\n",
       "      <th>number_of_reviews</th>\n",
       "      <th>reviews_per_month</th>\n",
       "      <th>calculated_host_listings_count</th>\n",
       "      <th>availability_365</th>\n",
       "    </tr>\n",
       "  </thead>\n",
       "  <tbody>\n",
       "    <tr>\n",
       "      <th>0</th>\n",
       "      <td>5728806</td>\n",
       "      <td>Large private room in Nolita</td>\n",
       "      <td>Nat</td>\n",
       "      <td>Manhattan</td>\n",
       "      <td>Nolita</td>\n",
       "      <td>40.72217</td>\n",
       "      <td>-73.99481</td>\n",
       "      <td>Private room</td>\n",
       "      <td>120</td>\n",
       "      <td>7</td>\n",
       "      <td>3</td>\n",
       "      <td>0.06</td>\n",
       "      <td>3</td>\n",
       "      <td>0</td>\n",
       "    </tr>\n",
       "    <tr>\n",
       "      <th>1</th>\n",
       "      <td>2243769</td>\n",
       "      <td>Super Bowl New York City Apartment</td>\n",
       "      <td>Brian</td>\n",
       "      <td>Manhattan</td>\n",
       "      <td>Upper West Side</td>\n",
       "      <td>40.80020</td>\n",
       "      <td>-73.96045</td>\n",
       "      <td>Entire home/apt</td>\n",
       "      <td>1500</td>\n",
       "      <td>1</td>\n",
       "      <td>0</td>\n",
       "      <td>NaN</td>\n",
       "      <td>1</td>\n",
       "      <td>0</td>\n",
       "    </tr>\n",
       "    <tr>\n",
       "      <th>2</th>\n",
       "      <td>35515415</td>\n",
       "      <td>COZY APT CLOSE TO LGA &amp; JFK AND TRANSPORTATION</td>\n",
       "      <td>Jenny</td>\n",
       "      <td>Queens</td>\n",
       "      <td>East Elmhurst</td>\n",
       "      <td>40.75558</td>\n",
       "      <td>-73.89316</td>\n",
       "      <td>Entire home/apt</td>\n",
       "      <td>200</td>\n",
       "      <td>2</td>\n",
       "      <td>4</td>\n",
       "      <td>4.00</td>\n",
       "      <td>1</td>\n",
       "      <td>365</td>\n",
       "    </tr>\n",
       "    <tr>\n",
       "      <th>3</th>\n",
       "      <td>36202006</td>\n",
       "      <td>Stream-Pressed Paradise (Laundry Room Setup)</td>\n",
       "      <td>Rita</td>\n",
       "      <td>Staten Island</td>\n",
       "      <td>Concord</td>\n",
       "      <td>40.60110</td>\n",
       "      <td>-74.07830</td>\n",
       "      <td>Shared room</td>\n",
       "      <td>30</td>\n",
       "      <td>2</td>\n",
       "      <td>0</td>\n",
       "      <td>NaN</td>\n",
       "      <td>4</td>\n",
       "      <td>82</td>\n",
       "    </tr>\n",
       "    <tr>\n",
       "      <th>4</th>\n",
       "      <td>3780951</td>\n",
       "      <td>Charming Harlem apartment</td>\n",
       "      <td>Gina</td>\n",
       "      <td>Manhattan</td>\n",
       "      <td>Harlem</td>\n",
       "      <td>40.81022</td>\n",
       "      <td>-73.94266</td>\n",
       "      <td>Shared room</td>\n",
       "      <td>115</td>\n",
       "      <td>1</td>\n",
       "      <td>16</td>\n",
       "      <td>0.27</td>\n",
       "      <td>1</td>\n",
       "      <td>365</td>\n",
       "    </tr>\n",
       "    <tr>\n",
       "      <th>...</th>\n",
       "      <td>...</td>\n",
       "      <td>...</td>\n",
       "      <td>...</td>\n",
       "      <td>...</td>\n",
       "      <td>...</td>\n",
       "      <td>...</td>\n",
       "      <td>...</td>\n",
       "      <td>...</td>\n",
       "      <td>...</td>\n",
       "      <td>...</td>\n",
       "      <td>...</td>\n",
       "      <td>...</td>\n",
       "      <td>...</td>\n",
       "      <td>...</td>\n",
       "    </tr>\n",
       "    <tr>\n",
       "      <th>34221</th>\n",
       "      <td>28342248</td>\n",
       "      <td>Ridgewood retreat</td>\n",
       "      <td>Sophie</td>\n",
       "      <td>Queens</td>\n",
       "      <td>Ridgewood</td>\n",
       "      <td>40.70602</td>\n",
       "      <td>-73.90485</td>\n",
       "      <td>Entire home/apt</td>\n",
       "      <td>80</td>\n",
       "      <td>5</td>\n",
       "      <td>2</td>\n",
       "      <td>0.21</td>\n",
       "      <td>1</td>\n",
       "      <td>0</td>\n",
       "    </tr>\n",
       "    <tr>\n",
       "      <th>34222</th>\n",
       "      <td>8438775</td>\n",
       "      <td>Private BR &amp; Bath near Central Park</td>\n",
       "      <td>Gabi</td>\n",
       "      <td>Manhattan</td>\n",
       "      <td>Upper West Side</td>\n",
       "      <td>40.77697</td>\n",
       "      <td>-73.97698</td>\n",
       "      <td>Private room</td>\n",
       "      <td>137</td>\n",
       "      <td>1</td>\n",
       "      <td>163</td>\n",
       "      <td>3.55</td>\n",
       "      <td>1</td>\n",
       "      <td>32</td>\n",
       "    </tr>\n",
       "    <tr>\n",
       "      <th>34223</th>\n",
       "      <td>27332770</td>\n",
       "      <td>Warm Home w/ Private Garden (Inwood Manhattan ...</td>\n",
       "      <td>Mary</td>\n",
       "      <td>Manhattan</td>\n",
       "      <td>Inwood</td>\n",
       "      <td>40.86912</td>\n",
       "      <td>-73.92183</td>\n",
       "      <td>Entire home/apt</td>\n",
       "      <td>195</td>\n",
       "      <td>2</td>\n",
       "      <td>6</td>\n",
       "      <td>0.53</td>\n",
       "      <td>1</td>\n",
       "      <td>0</td>\n",
       "    </tr>\n",
       "    <tr>\n",
       "      <th>34224</th>\n",
       "      <td>9063972</td>\n",
       "      <td>Chill Bushwick Suite</td>\n",
       "      <td>Olu Bliss</td>\n",
       "      <td>Brooklyn</td>\n",
       "      <td>Bushwick</td>\n",
       "      <td>40.69709</td>\n",
       "      <td>-73.91435</td>\n",
       "      <td>Private room</td>\n",
       "      <td>80</td>\n",
       "      <td>3</td>\n",
       "      <td>0</td>\n",
       "      <td>NaN</td>\n",
       "      <td>1</td>\n",
       "      <td>0</td>\n",
       "    </tr>\n",
       "    <tr>\n",
       "      <th>34225</th>\n",
       "      <td>13372860</td>\n",
       "      <td>Cozy and simple Bedstuy studio right by the train</td>\n",
       "      <td>Ashton</td>\n",
       "      <td>Brooklyn</td>\n",
       "      <td>Bedford-Stuyvesant</td>\n",
       "      <td>40.69076</td>\n",
       "      <td>-73.92886</td>\n",
       "      <td>Entire home/apt</td>\n",
       "      <td>69</td>\n",
       "      <td>4</td>\n",
       "      <td>5</td>\n",
       "      <td>0.13</td>\n",
       "      <td>1</td>\n",
       "      <td>0</td>\n",
       "    </tr>\n",
       "  </tbody>\n",
       "</table>\n",
       "<p>34226 rows × 14 columns</p>\n",
       "</div>"
      ],
      "text/plain": [
       "             id                                               name  host_name  \\\n",
       "0       5728806                       Large private room in Nolita        Nat   \n",
       "1       2243769                 Super Bowl New York City Apartment      Brian   \n",
       "2      35515415     COZY APT CLOSE TO LGA & JFK AND TRANSPORTATION      Jenny   \n",
       "3      36202006       Stream-Pressed Paradise (Laundry Room Setup)       Rita   \n",
       "4       3780951                          Charming Harlem apartment       Gina   \n",
       "...         ...                                                ...        ...   \n",
       "34221  28342248                                  Ridgewood retreat     Sophie   \n",
       "34222   8438775                Private BR & Bath near Central Park       Gabi   \n",
       "34223  27332770  Warm Home w/ Private Garden (Inwood Manhattan ...       Mary   \n",
       "34224   9063972                               Chill Bushwick Suite  Olu Bliss   \n",
       "34225  13372860  Cozy and simple Bedstuy studio right by the train     Ashton   \n",
       "\n",
       "      neighbourhood_group       neighbourhood  latitude  longitude  \\\n",
       "0               Manhattan              Nolita  40.72217  -73.99481   \n",
       "1               Manhattan     Upper West Side  40.80020  -73.96045   \n",
       "2                  Queens       East Elmhurst  40.75558  -73.89316   \n",
       "3           Staten Island             Concord  40.60110  -74.07830   \n",
       "4               Manhattan              Harlem  40.81022  -73.94266   \n",
       "...                   ...                 ...       ...        ...   \n",
       "34221              Queens           Ridgewood  40.70602  -73.90485   \n",
       "34222           Manhattan     Upper West Side  40.77697  -73.97698   \n",
       "34223           Manhattan              Inwood  40.86912  -73.92183   \n",
       "34224            Brooklyn            Bushwick  40.69709  -73.91435   \n",
       "34225            Brooklyn  Bedford-Stuyvesant  40.69076  -73.92886   \n",
       "\n",
       "             room_type  price  minimum_nights  number_of_reviews  \\\n",
       "0         Private room    120               7                  3   \n",
       "1      Entire home/apt   1500               1                  0   \n",
       "2      Entire home/apt    200               2                  4   \n",
       "3          Shared room     30               2                  0   \n",
       "4          Shared room    115               1                 16   \n",
       "...                ...    ...             ...                ...   \n",
       "34221  Entire home/apt     80               5                  2   \n",
       "34222     Private room    137               1                163   \n",
       "34223  Entire home/apt    195               2                  6   \n",
       "34224     Private room     80               3                  0   \n",
       "34225  Entire home/apt     69               4                  5   \n",
       "\n",
       "       reviews_per_month  calculated_host_listings_count  availability_365  \n",
       "0                   0.06                               3                 0  \n",
       "1                    NaN                               1                 0  \n",
       "2                   4.00                               1               365  \n",
       "3                    NaN                               4                82  \n",
       "4                   0.27                               1               365  \n",
       "...                  ...                             ...               ...  \n",
       "34221               0.21                               1                 0  \n",
       "34222               3.55                               1                32  \n",
       "34223               0.53                               1                 0  \n",
       "34224                NaN                               1                 0  \n",
       "34225               0.13                               1                 0  \n",
       "\n",
       "[34226 rows x 14 columns]"
      ]
     },
     "execution_count": 2,
     "metadata": {},
     "output_type": "execute_result"
    }
   ],
   "source": [
    "#importing the Database\n",
    "\n",
    "df = pd.read_csv('D:\\Tech\\TMLC\\RentPrediction.csv')\n",
    "\n",
    "df"
   ]
  },
  {
   "cell_type": "markdown",
   "id": "807afafd",
   "metadata": {},
   "source": [
    "# Data Exploration "
   ]
  },
  {
   "cell_type": "code",
   "execution_count": 3,
   "id": "56a734ff",
   "metadata": {},
   "outputs": [
    {
     "name": "stdout",
     "output_type": "stream",
     "text": [
      "<class 'pandas.core.frame.DataFrame'>\n",
      "RangeIndex: 34226 entries, 0 to 34225\n",
      "Data columns (total 14 columns):\n",
      " #   Column                          Non-Null Count  Dtype  \n",
      "---  ------                          --------------  -----  \n",
      " 0   id                              34226 non-null  int64  \n",
      " 1   name                            34214 non-null  object \n",
      " 2   host_name                       34213 non-null  object \n",
      " 3   neighbourhood_group             34226 non-null  object \n",
      " 4   neighbourhood                   34226 non-null  object \n",
      " 5   latitude                        34226 non-null  float64\n",
      " 6   longitude                       34226 non-null  float64\n",
      " 7   room_type                       34226 non-null  object \n",
      " 8   price                           34226 non-null  int64  \n",
      " 9   minimum_nights                  34226 non-null  int64  \n",
      " 10  number_of_reviews               34226 non-null  int64  \n",
      " 11  reviews_per_month               27244 non-null  float64\n",
      " 12  calculated_host_listings_count  34226 non-null  int64  \n",
      " 13  availability_365                34226 non-null  int64  \n",
      "dtypes: float64(3), int64(6), object(5)\n",
      "memory usage: 3.7+ MB\n"
     ]
    }
   ],
   "source": [
    "#Checking the datatypes and non null values in the database\n",
    "\n",
    "df.info()"
   ]
  },
  {
   "cell_type": "code",
   "execution_count": 4,
   "id": "7fd92f1c",
   "metadata": {},
   "outputs": [
    {
     "data": {
      "text/html": [
       "<div>\n",
       "<style scoped>\n",
       "    .dataframe tbody tr th:only-of-type {\n",
       "        vertical-align: middle;\n",
       "    }\n",
       "\n",
       "    .dataframe tbody tr th {\n",
       "        vertical-align: top;\n",
       "    }\n",
       "\n",
       "    .dataframe thead th {\n",
       "        text-align: right;\n",
       "    }\n",
       "</style>\n",
       "<table border=\"1\" class=\"dataframe\">\n",
       "  <thead>\n",
       "    <tr style=\"text-align: right;\">\n",
       "      <th></th>\n",
       "      <th>id</th>\n",
       "      <th>latitude</th>\n",
       "      <th>longitude</th>\n",
       "      <th>price</th>\n",
       "      <th>minimum_nights</th>\n",
       "      <th>number_of_reviews</th>\n",
       "      <th>reviews_per_month</th>\n",
       "      <th>calculated_host_listings_count</th>\n",
       "      <th>availability_365</th>\n",
       "    </tr>\n",
       "  </thead>\n",
       "  <tbody>\n",
       "    <tr>\n",
       "      <th>count</th>\n",
       "      <td>3.422600e+04</td>\n",
       "      <td>34226.000000</td>\n",
       "      <td>34226.000000</td>\n",
       "      <td>34226.000000</td>\n",
       "      <td>34226.000000</td>\n",
       "      <td>34226.000000</td>\n",
       "      <td>27244.000000</td>\n",
       "      <td>34226.000000</td>\n",
       "      <td>34226.000000</td>\n",
       "    </tr>\n",
       "    <tr>\n",
       "      <th>mean</th>\n",
       "      <td>1.898209e+07</td>\n",
       "      <td>40.729059</td>\n",
       "      <td>-73.952070</td>\n",
       "      <td>153.480979</td>\n",
       "      <td>6.953690</td>\n",
       "      <td>23.390931</td>\n",
       "      <td>1.377074</td>\n",
       "      <td>7.093905</td>\n",
       "      <td>113.301730</td>\n",
       "    </tr>\n",
       "    <tr>\n",
       "      <th>std</th>\n",
       "      <td>1.097597e+07</td>\n",
       "      <td>0.054604</td>\n",
       "      <td>0.046161</td>\n",
       "      <td>243.312608</td>\n",
       "      <td>20.255833</td>\n",
       "      <td>44.476822</td>\n",
       "      <td>1.688953</td>\n",
       "      <td>32.828412</td>\n",
       "      <td>131.892814</td>\n",
       "    </tr>\n",
       "    <tr>\n",
       "      <th>min</th>\n",
       "      <td>2.595000e+03</td>\n",
       "      <td>40.499790</td>\n",
       "      <td>-74.244420</td>\n",
       "      <td>0.000000</td>\n",
       "      <td>1.000000</td>\n",
       "      <td>0.000000</td>\n",
       "      <td>0.010000</td>\n",
       "      <td>1.000000</td>\n",
       "      <td>0.000000</td>\n",
       "    </tr>\n",
       "    <tr>\n",
       "      <th>25%</th>\n",
       "      <td>9.460366e+06</td>\n",
       "      <td>40.690040</td>\n",
       "      <td>-73.983150</td>\n",
       "      <td>69.000000</td>\n",
       "      <td>1.000000</td>\n",
       "      <td>1.000000</td>\n",
       "      <td>0.190000</td>\n",
       "      <td>1.000000</td>\n",
       "      <td>0.000000</td>\n",
       "    </tr>\n",
       "    <tr>\n",
       "      <th>50%</th>\n",
       "      <td>1.965371e+07</td>\n",
       "      <td>40.722995</td>\n",
       "      <td>-73.955700</td>\n",
       "      <td>107.000000</td>\n",
       "      <td>2.000000</td>\n",
       "      <td>5.000000</td>\n",
       "      <td>0.730000</td>\n",
       "      <td>1.000000</td>\n",
       "      <td>45.000000</td>\n",
       "    </tr>\n",
       "    <tr>\n",
       "      <th>75%</th>\n",
       "      <td>2.908201e+07</td>\n",
       "      <td>40.763200</td>\n",
       "      <td>-73.935982</td>\n",
       "      <td>175.000000</td>\n",
       "      <td>5.000000</td>\n",
       "      <td>24.000000</td>\n",
       "      <td>2.020000</td>\n",
       "      <td>2.000000</td>\n",
       "      <td>229.000000</td>\n",
       "    </tr>\n",
       "    <tr>\n",
       "      <th>max</th>\n",
       "      <td>3.648724e+07</td>\n",
       "      <td>40.913060</td>\n",
       "      <td>-73.712990</td>\n",
       "      <td>10000.000000</td>\n",
       "      <td>1250.000000</td>\n",
       "      <td>629.000000</td>\n",
       "      <td>58.500000</td>\n",
       "      <td>327.000000</td>\n",
       "      <td>365.000000</td>\n",
       "    </tr>\n",
       "  </tbody>\n",
       "</table>\n",
       "</div>"
      ],
      "text/plain": [
       "                 id      latitude     longitude         price  minimum_nights  \\\n",
       "count  3.422600e+04  34226.000000  34226.000000  34226.000000    34226.000000   \n",
       "mean   1.898209e+07     40.729059    -73.952070    153.480979        6.953690   \n",
       "std    1.097597e+07      0.054604      0.046161    243.312608       20.255833   \n",
       "min    2.595000e+03     40.499790    -74.244420      0.000000        1.000000   \n",
       "25%    9.460366e+06     40.690040    -73.983150     69.000000        1.000000   \n",
       "50%    1.965371e+07     40.722995    -73.955700    107.000000        2.000000   \n",
       "75%    2.908201e+07     40.763200    -73.935982    175.000000        5.000000   \n",
       "max    3.648724e+07     40.913060    -73.712990  10000.000000     1250.000000   \n",
       "\n",
       "       number_of_reviews  reviews_per_month  calculated_host_listings_count  \\\n",
       "count       34226.000000       27244.000000                    34226.000000   \n",
       "mean           23.390931           1.377074                        7.093905   \n",
       "std            44.476822           1.688953                       32.828412   \n",
       "min             0.000000           0.010000                        1.000000   \n",
       "25%             1.000000           0.190000                        1.000000   \n",
       "50%             5.000000           0.730000                        1.000000   \n",
       "75%            24.000000           2.020000                        2.000000   \n",
       "max           629.000000          58.500000                      327.000000   \n",
       "\n",
       "       availability_365  \n",
       "count      34226.000000  \n",
       "mean         113.301730  \n",
       "std          131.892814  \n",
       "min            0.000000  \n",
       "25%            0.000000  \n",
       "50%           45.000000  \n",
       "75%          229.000000  \n",
       "max          365.000000  "
      ]
     },
     "execution_count": 4,
     "metadata": {},
     "output_type": "execute_result"
    }
   ],
   "source": [
    "#Cheching the statistical data of the numerical coulmns\n",
    "\n",
    "df.describe()"
   ]
  },
  {
   "cell_type": "markdown",
   "id": "a60ec5f1",
   "metadata": {},
   "source": [
    "**From the above stats it can be observed that 'price','minimum_nights' and 'availability_365' would contain possible outliers that can decrease the efficiency of the model**"
   ]
  },
  {
   "cell_type": "code",
   "execution_count": 5,
   "id": "2bbfa0ff",
   "metadata": {},
   "outputs": [
    {
     "data": {
      "text/plain": [
       "id                                   0\n",
       "name                                12\n",
       "host_name                           13\n",
       "neighbourhood_group                  0\n",
       "neighbourhood                        0\n",
       "latitude                             0\n",
       "longitude                            0\n",
       "room_type                            0\n",
       "price                                0\n",
       "minimum_nights                       0\n",
       "number_of_reviews                    0\n",
       "reviews_per_month                 6982\n",
       "calculated_host_listings_count       0\n",
       "availability_365                     0\n",
       "dtype: int64"
      ]
     },
     "execution_count": 5,
     "metadata": {},
     "output_type": "execute_result"
    }
   ],
   "source": [
    "#Checking the count of null values in each column\n",
    "\n",
    "df.isnull().sum()"
   ]
  },
  {
   "cell_type": "code",
   "execution_count": 6,
   "id": "dc674423",
   "metadata": {},
   "outputs": [
    {
     "data": {
      "text/plain": [
       "array(['Manhattan', 'Queens', 'Staten Island', 'Brooklyn', 'Bronx'],\n",
       "      dtype=object)"
      ]
     },
     "execution_count": 6,
     "metadata": {},
     "output_type": "execute_result"
    }
   ],
   "source": [
    "#Checking unique neighbourhood groups\n",
    "\n",
    "df['neighbourhood_group'].unique()"
   ]
  },
  {
   "cell_type": "code",
   "execution_count": 7,
   "id": "d1967a8d",
   "metadata": {},
   "outputs": [
    {
     "data": {
      "text/plain": [
       "array(['Private room', 'Entire home/apt', 'Shared room'], dtype=object)"
      ]
     },
     "execution_count": 7,
     "metadata": {},
     "output_type": "execute_result"
    }
   ],
   "source": [
    "#Checking unique room types\n",
    "\n",
    "df['room_type'].unique()"
   ]
  },
  {
   "cell_type": "code",
   "execution_count": 8,
   "id": "3a020bea",
   "metadata": {},
   "outputs": [
    {
     "data": {
      "text/plain": [
       "count    34226.000000\n",
       "mean       153.480979\n",
       "std        243.312608\n",
       "min          0.000000\n",
       "25%         69.000000\n",
       "50%        107.000000\n",
       "75%        175.000000\n",
       "max      10000.000000\n",
       "Name: price, dtype: float64"
      ]
     },
     "execution_count": 8,
     "metadata": {},
     "output_type": "execute_result"
    }
   ],
   "source": [
    "#Checking stats for price column seperately\n",
    "\n",
    "df['price'].describe()"
   ]
  },
  {
   "cell_type": "markdown",
   "id": "68eccc19",
   "metadata": {},
   "source": [
    "# Data Cleaning"
   ]
  },
  {
   "cell_type": "code",
   "execution_count": 9,
   "id": "baaab1f3",
   "metadata": {},
   "outputs": [
    {
     "data": {
      "text/plain": [
       "<function matplotlib.pyplot.show(close=None, block=None)>"
      ]
     },
     "execution_count": 9,
     "metadata": {},
     "output_type": "execute_result"
    },
    {
     "data": {
      "image/png": "[encoded data removed]",
      "text/plain": [
       "<Figure size 3000x1000 with 1 Axes>"
      ]
     },
     "metadata": {},
     "output_type": "display_data"
    }
   ],
   "source": [
    "#Creating a Boxplot for finding outliers in Price\n",
    "plt.figure(figsize = (30,10))\n",
    "plt.boxplot(df['price'], vert= False)\n",
    "plt.ylabel('Price')\n",
    "plt.xlabel('Dollars')\n",
    "plt.show"
   ]
  },
  {
   "cell_type": "markdown",
   "id": "85014b1f",
   "metadata": {},
   "source": [
    "**From the above boxplot it is shown that the values in 'price' column are quite concentrated below 2000 and tend to scatter at large towards 10000. These values beyond 4000 contribute to distinct outliers and needs to be excluded. However as that would create to major data loss, setting threshold to 8000 and droping datapoints beyond that inorder to retain maximum data for efficient model building.**  "
   ]
  },
  {
   "cell_type": "code",
   "execution_count": 10,
   "id": "2c93fc64",
   "metadata": {},
   "outputs": [],
   "source": [
    "#Dropping rows from the database having price > 8000\n",
    "\n",
    "df.drop(df[df['price']>8000].index, inplace=True)"
   ]
  },
  {
   "cell_type": "markdown",
   "id": "f396add0",
   "metadata": {},
   "source": [
    "**Database consists of rows with Price zero. As price cannot be zero, Price = 0 indicates either data entered by mistake or property is not open to be rented.Hence dropping row with price = 0**"
   ]
  },
  {
   "cell_type": "code",
   "execution_count": 11,
   "id": "8632fa37",
   "metadata": {},
   "outputs": [
    {
     "data": {
      "text/plain": [
       "id                                9\n",
       "name                              9\n",
       "host_name                         9\n",
       "neighbourhood_group               9\n",
       "neighbourhood                     9\n",
       "latitude                          9\n",
       "longitude                         9\n",
       "room_type                         9\n",
       "price                             9\n",
       "minimum_nights                    9\n",
       "number_of_reviews                 9\n",
       "reviews_per_month                 8\n",
       "calculated_host_listings_count    9\n",
       "availability_365                  9\n",
       "dtype: int64"
      ]
     },
     "execution_count": 11,
     "metadata": {},
     "output_type": "execute_result"
    }
   ],
   "source": [
    "#Counting number of values in price cloumn that are Zero\n",
    "\n",
    "df[df['price']==0].count()"
   ]
  },
  {
   "cell_type": "code",
   "execution_count": 12,
   "id": "09609bdb",
   "metadata": {},
   "outputs": [],
   "source": [
    "#Dropping rows from the database having price = 0 \n",
    "\n",
    "df.drop(df[df['price']==0].index, inplace=True)"
   ]
  },
  {
   "cell_type": "code",
   "execution_count": 13,
   "id": "77e84ec5",
   "metadata": {},
   "outputs": [
    {
     "data": {
      "text/html": [
       "<div>\n",
       "<style scoped>\n",
       "    .dataframe tbody tr th:only-of-type {\n",
       "        vertical-align: middle;\n",
       "    }\n",
       "\n",
       "    .dataframe tbody tr th {\n",
       "        vertical-align: top;\n",
       "    }\n",
       "\n",
       "    .dataframe thead th {\n",
       "        text-align: right;\n",
       "    }\n",
       "</style>\n",
       "<table border=\"1\" class=\"dataframe\">\n",
       "  <thead>\n",
       "    <tr style=\"text-align: right;\">\n",
       "      <th></th>\n",
       "      <th>id</th>\n",
       "      <th>name</th>\n",
       "      <th>host_name</th>\n",
       "      <th>neighbourhood_group</th>\n",
       "      <th>neighbourhood</th>\n",
       "      <th>latitude</th>\n",
       "      <th>longitude</th>\n",
       "      <th>room_type</th>\n",
       "      <th>price</th>\n",
       "      <th>minimum_nights</th>\n",
       "      <th>number_of_reviews</th>\n",
       "      <th>reviews_per_month</th>\n",
       "      <th>calculated_host_listings_count</th>\n",
       "      <th>availability_365</th>\n",
       "    </tr>\n",
       "  </thead>\n",
       "  <tbody>\n",
       "    <tr>\n",
       "      <th>10766</th>\n",
       "      <td>18835820</td>\n",
       "      <td>Quiet, Cozy UES Studio Near the Subway</td>\n",
       "      <td>Amy</td>\n",
       "      <td>Manhattan</td>\n",
       "      <td>Upper East Side</td>\n",
       "      <td>40.76844</td>\n",
       "      <td>-73.95341</td>\n",
       "      <td>Entire home/apt</td>\n",
       "      <td>10</td>\n",
       "      <td>3</td>\n",
       "      <td>10</td>\n",
       "      <td>0.39</td>\n",
       "      <td>1</td>\n",
       "      <td>0</td>\n",
       "    </tr>\n",
       "    <tr>\n",
       "      <th>23016</th>\n",
       "      <td>25839759</td>\n",
       "      <td>Gigantic Sunny Room in Park Slope-Private Back...</td>\n",
       "      <td>Rachel</td>\n",
       "      <td>Brooklyn</td>\n",
       "      <td>Sunset Park</td>\n",
       "      <td>40.66242</td>\n",
       "      <td>-73.99464</td>\n",
       "      <td>Entire home/apt</td>\n",
       "      <td>10</td>\n",
       "      <td>1</td>\n",
       "      <td>14</td>\n",
       "      <td>1.06</td>\n",
       "      <td>1</td>\n",
       "      <td>4</td>\n",
       "    </tr>\n",
       "    <tr>\n",
       "      <th>13778</th>\n",
       "      <td>28071998</td>\n",
       "      <td>Cozy room in a three-bedroom House</td>\n",
       "      <td>Arthur</td>\n",
       "      <td>Queens</td>\n",
       "      <td>Woodhaven</td>\n",
       "      <td>40.69139</td>\n",
       "      <td>-73.86086</td>\n",
       "      <td>Private room</td>\n",
       "      <td>10</td>\n",
       "      <td>7</td>\n",
       "      <td>4</td>\n",
       "      <td>0.41</td>\n",
       "      <td>2</td>\n",
       "      <td>180</td>\n",
       "    </tr>\n",
       "    <tr>\n",
       "      <th>1503</th>\n",
       "      <td>17437106</td>\n",
       "      <td>Couch in Harlem Harvey Refugees only</td>\n",
       "      <td>Morgan</td>\n",
       "      <td>Manhattan</td>\n",
       "      <td>Harlem</td>\n",
       "      <td>40.81302</td>\n",
       "      <td>-73.95349</td>\n",
       "      <td>Shared room</td>\n",
       "      <td>10</td>\n",
       "      <td>1</td>\n",
       "      <td>0</td>\n",
       "      <td>NaN</td>\n",
       "      <td>1</td>\n",
       "      <td>0</td>\n",
       "    </tr>\n",
       "    <tr>\n",
       "      <th>29613</th>\n",
       "      <td>24114389</td>\n",
       "      <td>Very Spacious bedroom, steps from CENTRAL PARK.</td>\n",
       "      <td>Salim</td>\n",
       "      <td>Manhattan</td>\n",
       "      <td>Upper West Side</td>\n",
       "      <td>40.76844</td>\n",
       "      <td>-73.98333</td>\n",
       "      <td>Private room</td>\n",
       "      <td>10</td>\n",
       "      <td>1</td>\n",
       "      <td>2</td>\n",
       "      <td>0.13</td>\n",
       "      <td>1</td>\n",
       "      <td>0</td>\n",
       "    </tr>\n",
       "    <tr>\n",
       "      <th>...</th>\n",
       "      <td>...</td>\n",
       "      <td>...</td>\n",
       "      <td>...</td>\n",
       "      <td>...</td>\n",
       "      <td>...</td>\n",
       "      <td>...</td>\n",
       "      <td>...</td>\n",
       "      <td>...</td>\n",
       "      <td>...</td>\n",
       "      <td>...</td>\n",
       "      <td>...</td>\n",
       "      <td>...</td>\n",
       "      <td>...</td>\n",
       "      <td>...</td>\n",
       "    </tr>\n",
       "    <tr>\n",
       "      <th>3754</th>\n",
       "      <td>2271504</td>\n",
       "      <td>SUPER BOWL Brooklyn Duplex Apt!!</td>\n",
       "      <td>Jonathan</td>\n",
       "      <td>Brooklyn</td>\n",
       "      <td>Clinton Hill</td>\n",
       "      <td>40.68766</td>\n",
       "      <td>-73.96439</td>\n",
       "      <td>Entire home/apt</td>\n",
       "      <td>6500</td>\n",
       "      <td>1</td>\n",
       "      <td>0</td>\n",
       "      <td>NaN</td>\n",
       "      <td>1</td>\n",
       "      <td>0</td>\n",
       "    </tr>\n",
       "    <tr>\n",
       "      <th>7817</th>\n",
       "      <td>33998396</td>\n",
       "      <td>3000 sq ft daylight photo studio</td>\n",
       "      <td>Kevin</td>\n",
       "      <td>Manhattan</td>\n",
       "      <td>Chelsea</td>\n",
       "      <td>40.75060</td>\n",
       "      <td>-74.00388</td>\n",
       "      <td>Entire home/apt</td>\n",
       "      <td>6800</td>\n",
       "      <td>1</td>\n",
       "      <td>0</td>\n",
       "      <td>NaN</td>\n",
       "      <td>6</td>\n",
       "      <td>364</td>\n",
       "    </tr>\n",
       "    <tr>\n",
       "      <th>15974</th>\n",
       "      <td>33007610</td>\n",
       "      <td>70' Luxury MotorYacht on the Hudson</td>\n",
       "      <td>Jack</td>\n",
       "      <td>Manhattan</td>\n",
       "      <td>Battery Park City</td>\n",
       "      <td>40.71162</td>\n",
       "      <td>-74.01693</td>\n",
       "      <td>Entire home/apt</td>\n",
       "      <td>7500</td>\n",
       "      <td>1</td>\n",
       "      <td>0</td>\n",
       "      <td>NaN</td>\n",
       "      <td>1</td>\n",
       "      <td>364</td>\n",
       "    </tr>\n",
       "    <tr>\n",
       "      <th>3719</th>\n",
       "      <td>22779726</td>\n",
       "      <td>East 72nd Townhouse by (Hidden by Airbnb)</td>\n",
       "      <td>Sally</td>\n",
       "      <td>Manhattan</td>\n",
       "      <td>Upper East Side</td>\n",
       "      <td>40.76824</td>\n",
       "      <td>-73.95989</td>\n",
       "      <td>Entire home/apt</td>\n",
       "      <td>7703</td>\n",
       "      <td>1</td>\n",
       "      <td>0</td>\n",
       "      <td>NaN</td>\n",
       "      <td>12</td>\n",
       "      <td>146</td>\n",
       "    </tr>\n",
       "    <tr>\n",
       "      <th>31293</th>\n",
       "      <td>2953058</td>\n",
       "      <td>Film Location</td>\n",
       "      <td>Jessica</td>\n",
       "      <td>Brooklyn</td>\n",
       "      <td>Clinton Hill</td>\n",
       "      <td>40.69137</td>\n",
       "      <td>-73.96723</td>\n",
       "      <td>Entire home/apt</td>\n",
       "      <td>8000</td>\n",
       "      <td>1</td>\n",
       "      <td>1</td>\n",
       "      <td>0.03</td>\n",
       "      <td>11</td>\n",
       "      <td>365</td>\n",
       "    </tr>\n",
       "  </tbody>\n",
       "</table>\n",
       "<p>34212 rows × 14 columns</p>\n",
       "</div>"
      ],
      "text/plain": [
       "             id                                               name host_name  \\\n",
       "10766  18835820             Quiet, Cozy UES Studio Near the Subway       Amy   \n",
       "23016  25839759  Gigantic Sunny Room in Park Slope-Private Back...    Rachel   \n",
       "13778  28071998                 Cozy room in a three-bedroom House    Arthur   \n",
       "1503   17437106               Couch in Harlem Harvey Refugees only    Morgan   \n",
       "29613  24114389    Very Spacious bedroom, steps from CENTRAL PARK.     Salim   \n",
       "...         ...                                                ...       ...   \n",
       "3754    2271504                   SUPER BOWL Brooklyn Duplex Apt!!  Jonathan   \n",
       "7817   33998396                   3000 sq ft daylight photo studio     Kevin   \n",
       "15974  33007610                70' Luxury MotorYacht on the Hudson      Jack   \n",
       "3719   22779726          East 72nd Townhouse by (Hidden by Airbnb)     Sally   \n",
       "31293   2953058                                      Film Location   Jessica   \n",
       "\n",
       "      neighbourhood_group      neighbourhood  latitude  longitude  \\\n",
       "10766           Manhattan    Upper East Side  40.76844  -73.95341   \n",
       "23016            Brooklyn        Sunset Park  40.66242  -73.99464   \n",
       "13778              Queens          Woodhaven  40.69139  -73.86086   \n",
       "1503            Manhattan             Harlem  40.81302  -73.95349   \n",
       "29613           Manhattan    Upper West Side  40.76844  -73.98333   \n",
       "...                   ...                ...       ...        ...   \n",
       "3754             Brooklyn       Clinton Hill  40.68766  -73.96439   \n",
       "7817            Manhattan            Chelsea  40.75060  -74.00388   \n",
       "15974           Manhattan  Battery Park City  40.71162  -74.01693   \n",
       "3719            Manhattan    Upper East Side  40.76824  -73.95989   \n",
       "31293            Brooklyn       Clinton Hill  40.69137  -73.96723   \n",
       "\n",
       "             room_type  price  minimum_nights  number_of_reviews  \\\n",
       "10766  Entire home/apt     10               3                 10   \n",
       "23016  Entire home/apt     10               1                 14   \n",
       "13778     Private room     10               7                  4   \n",
       "1503       Shared room     10               1                  0   \n",
       "29613     Private room     10               1                  2   \n",
       "...                ...    ...             ...                ...   \n",
       "3754   Entire home/apt   6500               1                  0   \n",
       "7817   Entire home/apt   6800               1                  0   \n",
       "15974  Entire home/apt   7500               1                  0   \n",
       "3719   Entire home/apt   7703               1                  0   \n",
       "31293  Entire home/apt   8000               1                  1   \n",
       "\n",
       "       reviews_per_month  calculated_host_listings_count  availability_365  \n",
       "10766               0.39                               1                 0  \n",
       "23016               1.06                               1                 4  \n",
       "13778               0.41                               2               180  \n",
       "1503                 NaN                               1                 0  \n",
       "29613               0.13                               1                 0  \n",
       "...                  ...                             ...               ...  \n",
       "3754                 NaN                               1                 0  \n",
       "7817                 NaN                               6               364  \n",
       "15974                NaN                               1               364  \n",
       "3719                 NaN                              12               146  \n",
       "31293               0.03                              11               365  \n",
       "\n",
       "[34212 rows x 14 columns]"
      ]
     },
     "execution_count": 13,
     "metadata": {},
     "output_type": "execute_result"
    }
   ],
   "source": [
    "#Checking Database after deleting rows\n",
    "\n",
    "df.sort_values(['price'], axis = 0, ascending=True)"
   ]
  },
  {
   "cell_type": "code",
   "execution_count": 14,
   "id": "897d188f",
   "metadata": {},
   "outputs": [
    {
     "data": {
      "image/png": "[encoded data removed]",
      "text/plain": [
       "<Figure size 3000x1000 with 1 Axes>"
      ]
     },
     "metadata": {},
     "output_type": "display_data"
    }
   ],
   "source": [
    "#Creating a Boxplot for finding outliers in Minimum nights\n",
    "\n",
    "plt.figure(figsize=(30,10))\n",
    "plt.boxplot(df['minimum_nights'], vert=False)\n",
    "plt.ylabel('Minimum Nights')\n",
    "plt.xlabel('Number')\n",
    "plt.show()"
   ]
  },
  {
   "cell_type": "markdown",
   "id": "f29daee0",
   "metadata": {},
   "source": [
    "**From the above boxplot it is shown that the values in 'minimum_nights' column are quite concentrated below 800 and tend to scatter at large towards 1200. These values beyond 800 contribute to distinct outliers and needs to be excluded. Thus droping datapoints beyond that for efficient model building.**"
   ]
  },
  {
   "cell_type": "code",
   "execution_count": 15,
   "id": "bb9fc91d",
   "metadata": {},
   "outputs": [],
   "source": [
    "#Dropping rows of minimum_nights > 800\n",
    "\n",
    "df.drop(df[df['minimum_nights']>800].index, inplace=True)"
   ]
  },
  {
   "cell_type": "code",
   "execution_count": 16,
   "id": "642850a5",
   "metadata": {},
   "outputs": [
    {
     "data": {
      "image/png": "[encoded data removed]",
      "text/plain": [
       "<Figure size 3000x1000 with 1 Axes>"
      ]
     },
     "metadata": {},
     "output_type": "display_data"
    }
   ],
   "source": [
    "#Creating a boxplot for availaibility 365\n",
    "\n",
    "plt.figure(figsize=(30,10))\n",
    "plt.boxplot(df['availability_365'], vert=False)\n",
    "plt.ylabel('Availability_365')\n",
    "plt.xlabel('Number')\n",
    "plt.show()"
   ]
  },
  {
   "cell_type": "markdown",
   "id": "ca54fcd0",
   "metadata": {},
   "source": [
    "**from the boxplotit it can be observed that 25th percentile of the Data in 'availability 365' column is 0**"
   ]
  },
  {
   "cell_type": "code",
   "execution_count": 17,
   "id": "c453ebf4",
   "metadata": {},
   "outputs": [
    {
     "data": {
      "text/plain": [
       "id                                12253\n",
       "name                              12245\n",
       "host_name                         12245\n",
       "neighbourhood_group               12253\n",
       "neighbourhood                     12253\n",
       "latitude                          12253\n",
       "longitude                         12253\n",
       "room_type                         12253\n",
       "price                             12253\n",
       "minimum_nights                    12253\n",
       "number_of_reviews                 12253\n",
       "reviews_per_month                  8901\n",
       "calculated_host_listings_count    12253\n",
       "availability_365                  12253\n",
       "dtype: int64"
      ]
     },
     "execution_count": 17,
     "metadata": {},
     "output_type": "execute_result"
    }
   ],
   "source": [
    "#Counting exact number of values in 'availability 365' that are zero\n",
    "\n",
    "df[df['availability_365']==0].count()"
   ]
  },
  {
   "cell_type": "markdown",
   "id": "d10d8b42",
   "metadata": {},
   "source": [
    "**There are 12253 rows where availability 365 is 0. As it contributes large number of values to the dataset, replacing or deleting these rows may cause huge data loss. Hence leaving it unchanged**"
   ]
  },
  {
   "cell_type": "code",
   "execution_count": 18,
   "id": "8d087a66",
   "metadata": {},
   "outputs": [
    {
     "data": {
      "text/plain": [
       "id                                   0\n",
       "name                                11\n",
       "host_name                           13\n",
       "neighbourhood_group                  0\n",
       "neighbourhood                        0\n",
       "latitude                             0\n",
       "longitude                            0\n",
       "room_type                            0\n",
       "price                                0\n",
       "minimum_nights                       0\n",
       "number_of_reviews                    0\n",
       "reviews_per_month                 6977\n",
       "calculated_host_listings_count       0\n",
       "availability_365                     0\n",
       "dtype: int64"
      ]
     },
     "execution_count": 18,
     "metadata": {},
     "output_type": "execute_result"
    }
   ],
   "source": [
    "#Counting Null Values for each columns\n",
    "\n",
    "df.isnull().sum()"
   ]
  },
  {
   "cell_type": "markdown",
   "id": "1a525260",
   "metadata": {},
   "source": [
    "**As observed there are 3 columns with null values 'name','host_name' and 'reviews_per_month'. As name and host_name are objects distinct for every row, so wont be contributing much to generate insights. However reviews_per_month can be utitlised for generating insights.** "
   ]
  },
  {
   "cell_type": "code",
   "execution_count": 19,
   "id": "6a811fe5",
   "metadata": {},
   "outputs": [],
   "source": [
    "#Replacing null values in reviews_per_month\n",
    "\n",
    "df['reviews_per_month'].fillna(0, inplace=True)"
   ]
  },
  {
   "cell_type": "markdown",
   "id": "f48a4955",
   "metadata": {},
   "source": [
    "# Data Analysis through Visualisation"
   ]
  },
  {
   "cell_type": "markdown",
   "id": "97dff529",
   "metadata": {},
   "source": [
    "**Univariate Analysis**  \n",
    "**1. How are houses distributed in different neighbourhood groups ?**  \n",
    "**2. Which room type is listed the most**  \n",
    "**3. How is price distributed throughout the dataset ?**  \n",
    "**4. Distribution of property as per availability**"
   ]
  },
  {
   "cell_type": "code",
   "execution_count": 20,
   "id": "0aec5190",
   "metadata": {},
   "outputs": [
    {
     "data": {
      "image/png": "[encoded data removed]",
      "text/plain": [
       "<Figure size 500x500 with 1 Axes>"
      ]
     },
     "metadata": {},
     "output_type": "display_data"
    }
   ],
   "source": [
    "#Plotting distribution of Dataset based on neighbourhood_groups\n",
    "\n",
    "plt.figure(figsize = (5,5))\n",
    "sns.countplot(x='neighbourhood_group', data=df, palette = 'pastel')\n",
    "plt.show()"
   ]
  },
  {
   "cell_type": "markdown",
   "id": "fbd2627d",
   "metadata": {},
   "source": [
    "**From the above graph it can be seen that Manhattan has most number of properties followed by Brooklyn, whereas Staten islan has least number of properties.**"
   ]
  },
  {
   "cell_type": "code",
   "execution_count": 21,
   "id": "faf7f444",
   "metadata": {},
   "outputs": [
    {
     "data": {
      "image/png": "[encoded data removed]",
      "text/plain": [
       "<Figure size 500x500 with 1 Axes>"
      ]
     },
     "metadata": {},
     "output_type": "display_data"
    }
   ],
   "source": [
    "#Plotting distribution of Dataset based on room_type\n",
    "\n",
    "plt.figure(figsize = (5,5))\n",
    "sns.countplot(x='room_type', data=df, palette = 'pastel')\n",
    "plt.xlabel('Room Type')\n",
    "plt.ylabel('Count')\n",
    "plt.title('Room Type Distribution')\n",
    "plt.show()"
   ]
  },
  {
   "cell_type": "markdown",
   "id": "09ef52d0",
   "metadata": {},
   "source": [
    "**From the above graph it can be observed that most of the properties rented are of 'Entire Home/Apt Room type'**"
   ]
  },
  {
   "cell_type": "code",
   "execution_count": 22,
   "id": "f7f21391",
   "metadata": {},
   "outputs": [
    {
     "data": {
      "image/png": "[encoded data removed]",
      "text/plain": [
       "<Figure size 1000x400 with 2 Axes>"
      ]
     },
     "metadata": {},
     "output_type": "display_data"
    }
   ],
   "source": [
    "#Plotting Price distribution across the dataset\n",
    "\n",
    "fig, axes = plt.subplots(1, 2, figsize=(10, 4))\n",
    "\n",
    "# Plot histogram on the first subplot\n",
    "axes[0].hist(df['price'], bins=100, color='skyblue', edgecolor='black')\n",
    "axes[0].set_xlabel('Price')\n",
    "axes[0].set_ylabel('Frequency')\n",
    "axes[0].set_title('Price Distribution (Histogram)')\n",
    "\n",
    "# Plot KDE plot on the second subplot\n",
    "sns.kdeplot(df['price'], fill=True, color='skyblue', ax=axes[1])\n",
    "axes[1].set_xlabel('Price')\n",
    "axes[1].set_ylabel('Frequency')\n",
    "axes[1].set_title('Price Distribution (KDE)')\n",
    "\n",
    "# Adjust layout\n",
    "plt.tight_layout()\n",
    "\n",
    "# Show plot\n",
    "plt.show()"
   ]
  },
  {
   "cell_type": "markdown",
   "id": "d6e371eb",
   "metadata": {},
   "source": [
    "**From the above graphs it can be observed that for lower price frequency of properties is high and tends to decrease as the price increases**"
   ]
  },
  {
   "cell_type": "code",
   "execution_count": 23,
   "id": "316d1fc2",
   "metadata": {},
   "outputs": [
    {
     "data": {
      "image/png": "[encoded data removed]",
      "text/plain": [
       "<Figure size 1000x400 with 2 Axes>"
      ]
     },
     "metadata": {},
     "output_type": "display_data"
    }
   ],
   "source": [
    "#Distribution of property as per availability\n",
    "\n",
    "fig, axes = plt.subplots(1, 2, figsize=(10, 4))\n",
    "\n",
    "# Plot histogram on the first subplot\n",
    "axes[0].hist(df['availability_365'], bins=100, color='skyblue', edgecolor='black')\n",
    "axes[0].set_xlabel('Availability')\n",
    "axes[0].set_ylabel('Frequency')\n",
    "axes[0].set_title('Availability Distribution (Histogram)')\n",
    "\n",
    "# Plot KDE plot on the second subplot\n",
    "sns.kdeplot(df['availability_365'], fill=True, color='skyblue', ax=axes[1])\n",
    "axes[1].set_xlabel('Availability')\n",
    "axes[1].set_ylabel('Frequency')\n",
    "axes[1].set_title('Availability Distribution (KDE)')\n",
    "\n",
    "# Adjust layout\n",
    "plt.tight_layout()\n",
    "\n",
    "# Show plot\n",
    "plt.show()"
   ]
  },
  {
   "cell_type": "markdown",
   "id": "a1b8cfe1",
   "metadata": {},
   "source": [
    "**From the above graphs it can be observed that majority of properties are unavailable for renting hence a peak in the curve can be seen at 0.** "
   ]
  },
  {
   "cell_type": "markdown",
   "id": "e18e527f",
   "metadata": {},
   "source": [
    "**Bivariate Analysis**  \n",
    "**1.Price vs Minimum Nights**  \n",
    "**2.Neighbourhood group and Room Type**"
   ]
  },
  {
   "cell_type": "code",
   "execution_count": 24,
   "id": "c19d1e79",
   "metadata": {},
   "outputs": [
    {
     "data": {
      "image/png": "[encoded data removed]",
      "text/plain": [
       "<Figure size 500x500 with 1 Axes>"
      ]
     },
     "metadata": {},
     "output_type": "display_data"
    }
   ],
   "source": [
    "#Plotting Price vs Minimum NIghts using Scatter Plot\n",
    "\n",
    "plt.figure(figsize=(5,5))\n",
    "sns.scatterplot(x='price', y='minimum_nights', data=df)\n",
    "plt.title('Scatter Plot')\n",
    "plt.xlabel('price')\n",
    "plt.ylabel('minimum_nights')\n",
    "plt.show()"
   ]
  },
  {
   "cell_type": "markdown",
   "id": "63185a92",
   "metadata": {},
   "source": [
    "**From the above scatter plot it can be observed that graph is concentrated for minimum number of nights = 0 and price = 0. Thus it can be considered that majority of the properties are unavailable for renting**"
   ]
  },
  {
   "cell_type": "code",
   "execution_count": 25,
   "id": "16152468",
   "metadata": {},
   "outputs": [
    {
     "data": {
      "image/png": "[encoded data removed]",
      "text/plain": [
       "<Figure size 800x500 with 1 Axes>"
      ]
     },
     "metadata": {},
     "output_type": "display_data"
    }
   ],
   "source": [
    "#Plotting Neighbourhood Group Vs Room Type using CountPlot\n",
    "\n",
    "plt.figure(figsize=(8,5))\n",
    "sns.countplot(x='neighbourhood_group', hue='room_type', data=df, palette = 'pastel')\n",
    "plt.title('Neighbourhood Group vs Room Type')\n",
    "plt.xlabel('Neighbourhood Group')\n",
    "plt.ylabel('Count')\n",
    "plt.show()"
   ]
  },
  {
   "cell_type": "markdown",
   "id": "97147430",
   "metadata": {},
   "source": [
    "**From the above graph we can observe that Manhattan has more properties out of which majority of the properties are Entire \n",
    "hometype, followed by Brooklyn where majority of the property are Private rooms.**"
   ]
  },
  {
   "cell_type": "markdown",
   "id": "7fc34501",
   "metadata": {},
   "source": [
    "# Data Transformation through Feature Engineering"
   ]
  },
  {
   "cell_type": "code",
   "execution_count": 26,
   "id": "dd91b791",
   "metadata": {},
   "outputs": [
    {
     "data": {
      "text/plain": [
       "id                                  int64\n",
       "name                               object\n",
       "host_name                          object\n",
       "neighbourhood_group                object\n",
       "neighbourhood                      object\n",
       "latitude                          float64\n",
       "longitude                         float64\n",
       "room_type                          object\n",
       "price                               int64\n",
       "minimum_nights                      int64\n",
       "number_of_reviews                   int64\n",
       "reviews_per_month                 float64\n",
       "calculated_host_listings_count      int64\n",
       "availability_365                    int64\n",
       "dtype: object"
      ]
     },
     "execution_count": 26,
     "metadata": {},
     "output_type": "execute_result"
    }
   ],
   "source": [
    "#Finding Dataype of each column\n",
    "\n",
    "df.dtypes"
   ]
  },
  {
   "cell_type": "code",
   "execution_count": 27,
   "id": "40bd945a",
   "metadata": {},
   "outputs": [
    {
     "data": {
      "text/plain": [
       "id                                34208\n",
       "name                              33636\n",
       "host_name                          9287\n",
       "neighbourhood_group                   5\n",
       "neighbourhood                       217\n",
       "latitude                          16413\n",
       "longitude                         12889\n",
       "room_type                             3\n",
       "price                               617\n",
       "minimum_nights                       88\n",
       "number_of_reviews                   367\n",
       "reviews_per_month                   882\n",
       "calculated_host_listings_count       47\n",
       "availability_365                    366\n",
       "dtype: int64"
      ]
     },
     "execution_count": 27,
     "metadata": {},
     "output_type": "execute_result"
    }
   ],
   "source": [
    "#Finding number of unique values in each column\n",
    "\n",
    "df.nunique()"
   ]
  },
  {
   "cell_type": "markdown",
   "id": "1b6a73eb",
   "metadata": {},
   "source": [
    "**From the above observation neighbour_hood_group and room_type can be considered to be columns of categorical type and can be encoded**"
   ]
  },
  {
   "cell_type": "code",
   "execution_count": 28,
   "id": "46e4ab00",
   "metadata": {},
   "outputs": [],
   "source": [
    "#Using One Hot Encoding for neighbourhood group and room type\n",
    "\n",
    "df = pd.get_dummies(df,columns=['neighbourhood_group','room_type'])\n"
   ]
  },
  {
   "cell_type": "code",
   "execution_count": 29,
   "id": "d9cff143",
   "metadata": {},
   "outputs": [
    {
     "data": {
      "text/html": [
       "<div>\n",
       "<style scoped>\n",
       "    .dataframe tbody tr th:only-of-type {\n",
       "        vertical-align: middle;\n",
       "    }\n",
       "\n",
       "    .dataframe tbody tr th {\n",
       "        vertical-align: top;\n",
       "    }\n",
       "\n",
       "    .dataframe thead th {\n",
       "        text-align: right;\n",
       "    }\n",
       "</style>\n",
       "<table border=\"1\" class=\"dataframe\">\n",
       "  <thead>\n",
       "    <tr style=\"text-align: right;\">\n",
       "      <th></th>\n",
       "      <th>id</th>\n",
       "      <th>name</th>\n",
       "      <th>host_name</th>\n",
       "      <th>neighbourhood</th>\n",
       "      <th>latitude</th>\n",
       "      <th>longitude</th>\n",
       "      <th>price</th>\n",
       "      <th>minimum_nights</th>\n",
       "      <th>number_of_reviews</th>\n",
       "      <th>reviews_per_month</th>\n",
       "      <th>calculated_host_listings_count</th>\n",
       "      <th>availability_365</th>\n",
       "      <th>neighbourhood_group_Bronx</th>\n",
       "      <th>neighbourhood_group_Brooklyn</th>\n",
       "      <th>neighbourhood_group_Manhattan</th>\n",
       "      <th>neighbourhood_group_Queens</th>\n",
       "      <th>neighbourhood_group_Staten Island</th>\n",
       "      <th>room_type_Entire home/apt</th>\n",
       "      <th>room_type_Private room</th>\n",
       "      <th>room_type_Shared room</th>\n",
       "    </tr>\n",
       "  </thead>\n",
       "  <tbody>\n",
       "    <tr>\n",
       "      <th>0</th>\n",
       "      <td>5728806</td>\n",
       "      <td>Large private room in Nolita</td>\n",
       "      <td>Nat</td>\n",
       "      <td>Nolita</td>\n",
       "      <td>40.72217</td>\n",
       "      <td>-73.99481</td>\n",
       "      <td>120</td>\n",
       "      <td>7</td>\n",
       "      <td>3</td>\n",
       "      <td>0.06</td>\n",
       "      <td>3</td>\n",
       "      <td>0</td>\n",
       "      <td>False</td>\n",
       "      <td>False</td>\n",
       "      <td>True</td>\n",
       "      <td>False</td>\n",
       "      <td>False</td>\n",
       "      <td>False</td>\n",
       "      <td>True</td>\n",
       "      <td>False</td>\n",
       "    </tr>\n",
       "    <tr>\n",
       "      <th>1</th>\n",
       "      <td>2243769</td>\n",
       "      <td>Super Bowl New York City Apartment</td>\n",
       "      <td>Brian</td>\n",
       "      <td>Upper West Side</td>\n",
       "      <td>40.80020</td>\n",
       "      <td>-73.96045</td>\n",
       "      <td>1500</td>\n",
       "      <td>1</td>\n",
       "      <td>0</td>\n",
       "      <td>0.00</td>\n",
       "      <td>1</td>\n",
       "      <td>0</td>\n",
       "      <td>False</td>\n",
       "      <td>False</td>\n",
       "      <td>True</td>\n",
       "      <td>False</td>\n",
       "      <td>False</td>\n",
       "      <td>True</td>\n",
       "      <td>False</td>\n",
       "      <td>False</td>\n",
       "    </tr>\n",
       "    <tr>\n",
       "      <th>2</th>\n",
       "      <td>35515415</td>\n",
       "      <td>COZY APT CLOSE TO LGA &amp; JFK AND TRANSPORTATION</td>\n",
       "      <td>Jenny</td>\n",
       "      <td>East Elmhurst</td>\n",
       "      <td>40.75558</td>\n",
       "      <td>-73.89316</td>\n",
       "      <td>200</td>\n",
       "      <td>2</td>\n",
       "      <td>4</td>\n",
       "      <td>4.00</td>\n",
       "      <td>1</td>\n",
       "      <td>365</td>\n",
       "      <td>False</td>\n",
       "      <td>False</td>\n",
       "      <td>False</td>\n",
       "      <td>True</td>\n",
       "      <td>False</td>\n",
       "      <td>True</td>\n",
       "      <td>False</td>\n",
       "      <td>False</td>\n",
       "    </tr>\n",
       "    <tr>\n",
       "      <th>3</th>\n",
       "      <td>36202006</td>\n",
       "      <td>Stream-Pressed Paradise (Laundry Room Setup)</td>\n",
       "      <td>Rita</td>\n",
       "      <td>Concord</td>\n",
       "      <td>40.60110</td>\n",
       "      <td>-74.07830</td>\n",
       "      <td>30</td>\n",
       "      <td>2</td>\n",
       "      <td>0</td>\n",
       "      <td>0.00</td>\n",
       "      <td>4</td>\n",
       "      <td>82</td>\n",
       "      <td>False</td>\n",
       "      <td>False</td>\n",
       "      <td>False</td>\n",
       "      <td>False</td>\n",
       "      <td>True</td>\n",
       "      <td>False</td>\n",
       "      <td>False</td>\n",
       "      <td>True</td>\n",
       "    </tr>\n",
       "    <tr>\n",
       "      <th>4</th>\n",
       "      <td>3780951</td>\n",
       "      <td>Charming Harlem apartment</td>\n",
       "      <td>Gina</td>\n",
       "      <td>Harlem</td>\n",
       "      <td>40.81022</td>\n",
       "      <td>-73.94266</td>\n",
       "      <td>115</td>\n",
       "      <td>1</td>\n",
       "      <td>16</td>\n",
       "      <td>0.27</td>\n",
       "      <td>1</td>\n",
       "      <td>365</td>\n",
       "      <td>False</td>\n",
       "      <td>False</td>\n",
       "      <td>True</td>\n",
       "      <td>False</td>\n",
       "      <td>False</td>\n",
       "      <td>False</td>\n",
       "      <td>False</td>\n",
       "      <td>True</td>\n",
       "    </tr>\n",
       "  </tbody>\n",
       "</table>\n",
       "</div>"
      ],
      "text/plain": [
       "         id                                            name host_name  \\\n",
       "0   5728806                    Large private room in Nolita       Nat   \n",
       "1   2243769              Super Bowl New York City Apartment     Brian   \n",
       "2  35515415  COZY APT CLOSE TO LGA & JFK AND TRANSPORTATION     Jenny   \n",
       "3  36202006    Stream-Pressed Paradise (Laundry Room Setup)      Rita   \n",
       "4   3780951                       Charming Harlem apartment      Gina   \n",
       "\n",
       "     neighbourhood  latitude  longitude  price  minimum_nights  \\\n",
       "0           Nolita  40.72217  -73.99481    120               7   \n",
       "1  Upper West Side  40.80020  -73.96045   1500               1   \n",
       "2    East Elmhurst  40.75558  -73.89316    200               2   \n",
       "3          Concord  40.60110  -74.07830     30               2   \n",
       "4           Harlem  40.81022  -73.94266    115               1   \n",
       "\n",
       "   number_of_reviews  reviews_per_month  calculated_host_listings_count  \\\n",
       "0                  3               0.06                               3   \n",
       "1                  0               0.00                               1   \n",
       "2                  4               4.00                               1   \n",
       "3                  0               0.00                               4   \n",
       "4                 16               0.27                               1   \n",
       "\n",
       "   availability_365  neighbourhood_group_Bronx  neighbourhood_group_Brooklyn  \\\n",
       "0                 0                      False                         False   \n",
       "1                 0                      False                         False   \n",
       "2               365                      False                         False   \n",
       "3                82                      False                         False   \n",
       "4               365                      False                         False   \n",
       "\n",
       "   neighbourhood_group_Manhattan  neighbourhood_group_Queens  \\\n",
       "0                           True                       False   \n",
       "1                           True                       False   \n",
       "2                          False                        True   \n",
       "3                          False                       False   \n",
       "4                           True                       False   \n",
       "\n",
       "   neighbourhood_group_Staten Island  room_type_Entire home/apt  \\\n",
       "0                              False                      False   \n",
       "1                              False                       True   \n",
       "2                              False                       True   \n",
       "3                               True                      False   \n",
       "4                              False                      False   \n",
       "\n",
       "   room_type_Private room  room_type_Shared room  \n",
       "0                    True                  False  \n",
       "1                   False                  False  \n",
       "2                   False                  False  \n",
       "3                   False                   True  \n",
       "4                   False                   True  "
      ]
     },
     "execution_count": 29,
     "metadata": {},
     "output_type": "execute_result"
    }
   ],
   "source": [
    "df.head(5)"
   ]
  },
  {
   "cell_type": "code",
   "execution_count": 30,
   "id": "3813fd76",
   "metadata": {},
   "outputs": [],
   "source": [
    "#Dropping unnecesary columns from the database\n",
    "\n",
    "df.drop(['id','name','host_name','neighbourhood'],axis=1,inplace=True)"
   ]
  },
  {
   "cell_type": "code",
   "execution_count": 31,
   "id": "e64e93e4",
   "metadata": {},
   "outputs": [
    {
     "data": {
      "text/html": [
       "<div>\n",
       "<style scoped>\n",
       "    .dataframe tbody tr th:only-of-type {\n",
       "        vertical-align: middle;\n",
       "    }\n",
       "\n",
       "    .dataframe tbody tr th {\n",
       "        vertical-align: top;\n",
       "    }\n",
       "\n",
       "    .dataframe thead th {\n",
       "        text-align: right;\n",
       "    }\n",
       "</style>\n",
       "<table border=\"1\" class=\"dataframe\">\n",
       "  <thead>\n",
       "    <tr style=\"text-align: right;\">\n",
       "      <th></th>\n",
       "      <th>latitude</th>\n",
       "      <th>longitude</th>\n",
       "      <th>price</th>\n",
       "      <th>minimum_nights</th>\n",
       "      <th>number_of_reviews</th>\n",
       "      <th>reviews_per_month</th>\n",
       "      <th>calculated_host_listings_count</th>\n",
       "      <th>availability_365</th>\n",
       "      <th>neighbourhood_group_Bronx</th>\n",
       "      <th>neighbourhood_group_Brooklyn</th>\n",
       "      <th>neighbourhood_group_Manhattan</th>\n",
       "      <th>neighbourhood_group_Queens</th>\n",
       "      <th>neighbourhood_group_Staten Island</th>\n",
       "      <th>room_type_Entire home/apt</th>\n",
       "      <th>room_type_Private room</th>\n",
       "      <th>room_type_Shared room</th>\n",
       "    </tr>\n",
       "  </thead>\n",
       "  <tbody>\n",
       "    <tr>\n",
       "      <th>0</th>\n",
       "      <td>40.72217</td>\n",
       "      <td>-73.99481</td>\n",
       "      <td>120</td>\n",
       "      <td>7</td>\n",
       "      <td>3</td>\n",
       "      <td>0.06</td>\n",
       "      <td>3</td>\n",
       "      <td>0</td>\n",
       "      <td>False</td>\n",
       "      <td>False</td>\n",
       "      <td>True</td>\n",
       "      <td>False</td>\n",
       "      <td>False</td>\n",
       "      <td>False</td>\n",
       "      <td>True</td>\n",
       "      <td>False</td>\n",
       "    </tr>\n",
       "    <tr>\n",
       "      <th>1</th>\n",
       "      <td>40.80020</td>\n",
       "      <td>-73.96045</td>\n",
       "      <td>1500</td>\n",
       "      <td>1</td>\n",
       "      <td>0</td>\n",
       "      <td>0.00</td>\n",
       "      <td>1</td>\n",
       "      <td>0</td>\n",
       "      <td>False</td>\n",
       "      <td>False</td>\n",
       "      <td>True</td>\n",
       "      <td>False</td>\n",
       "      <td>False</td>\n",
       "      <td>True</td>\n",
       "      <td>False</td>\n",
       "      <td>False</td>\n",
       "    </tr>\n",
       "    <tr>\n",
       "      <th>2</th>\n",
       "      <td>40.75558</td>\n",
       "      <td>-73.89316</td>\n",
       "      <td>200</td>\n",
       "      <td>2</td>\n",
       "      <td>4</td>\n",
       "      <td>4.00</td>\n",
       "      <td>1</td>\n",
       "      <td>365</td>\n",
       "      <td>False</td>\n",
       "      <td>False</td>\n",
       "      <td>False</td>\n",
       "      <td>True</td>\n",
       "      <td>False</td>\n",
       "      <td>True</td>\n",
       "      <td>False</td>\n",
       "      <td>False</td>\n",
       "    </tr>\n",
       "    <tr>\n",
       "      <th>3</th>\n",
       "      <td>40.60110</td>\n",
       "      <td>-74.07830</td>\n",
       "      <td>30</td>\n",
       "      <td>2</td>\n",
       "      <td>0</td>\n",
       "      <td>0.00</td>\n",
       "      <td>4</td>\n",
       "      <td>82</td>\n",
       "      <td>False</td>\n",
       "      <td>False</td>\n",
       "      <td>False</td>\n",
       "      <td>False</td>\n",
       "      <td>True</td>\n",
       "      <td>False</td>\n",
       "      <td>False</td>\n",
       "      <td>True</td>\n",
       "    </tr>\n",
       "    <tr>\n",
       "      <th>4</th>\n",
       "      <td>40.81022</td>\n",
       "      <td>-73.94266</td>\n",
       "      <td>115</td>\n",
       "      <td>1</td>\n",
       "      <td>16</td>\n",
       "      <td>0.27</td>\n",
       "      <td>1</td>\n",
       "      <td>365</td>\n",
       "      <td>False</td>\n",
       "      <td>False</td>\n",
       "      <td>True</td>\n",
       "      <td>False</td>\n",
       "      <td>False</td>\n",
       "      <td>False</td>\n",
       "      <td>False</td>\n",
       "      <td>True</td>\n",
       "    </tr>\n",
       "  </tbody>\n",
       "</table>\n",
       "</div>"
      ],
      "text/plain": [
       "   latitude  longitude  price  minimum_nights  number_of_reviews  \\\n",
       "0  40.72217  -73.99481    120               7                  3   \n",
       "1  40.80020  -73.96045   1500               1                  0   \n",
       "2  40.75558  -73.89316    200               2                  4   \n",
       "3  40.60110  -74.07830     30               2                  0   \n",
       "4  40.81022  -73.94266    115               1                 16   \n",
       "\n",
       "   reviews_per_month  calculated_host_listings_count  availability_365  \\\n",
       "0               0.06                               3                 0   \n",
       "1               0.00                               1                 0   \n",
       "2               4.00                               1               365   \n",
       "3               0.00                               4                82   \n",
       "4               0.27                               1               365   \n",
       "\n",
       "   neighbourhood_group_Bronx  neighbourhood_group_Brooklyn  \\\n",
       "0                      False                         False   \n",
       "1                      False                         False   \n",
       "2                      False                         False   \n",
       "3                      False                         False   \n",
       "4                      False                         False   \n",
       "\n",
       "   neighbourhood_group_Manhattan  neighbourhood_group_Queens  \\\n",
       "0                           True                       False   \n",
       "1                           True                       False   \n",
       "2                          False                        True   \n",
       "3                          False                       False   \n",
       "4                           True                       False   \n",
       "\n",
       "   neighbourhood_group_Staten Island  room_type_Entire home/apt  \\\n",
       "0                              False                      False   \n",
       "1                              False                       True   \n",
       "2                              False                       True   \n",
       "3                               True                      False   \n",
       "4                              False                      False   \n",
       "\n",
       "   room_type_Private room  room_type_Shared room  \n",
       "0                    True                  False  \n",
       "1                   False                  False  \n",
       "2                   False                  False  \n",
       "3                   False                   True  \n",
       "4                   False                   True  "
      ]
     },
     "execution_count": 31,
     "metadata": {},
     "output_type": "execute_result"
    }
   ],
   "source": [
    "df.head(5)"
   ]
  },
  {
   "cell_type": "markdown",
   "id": "8fffd315",
   "metadata": {},
   "source": [
    "# Model Building"
   ]
  },
  {
   "cell_type": "code",
   "execution_count": 32,
   "id": "c3184c79",
   "metadata": {},
   "outputs": [],
   "source": [
    "#Seperating the Dependent and Independent Columns\n",
    "\n",
    "x = df.drop('price', axis=1)  #-------->Dataframe with independent columns\n",
    "y = df['price']   #-------->Dataframe with dependent column/target column"
   ]
  },
  {
   "cell_type": "code",
   "execution_count": 33,
   "id": "94d23415",
   "metadata": {},
   "outputs": [],
   "source": [
    "#Using the Train Test Split method from Scikit Learn to Train and Test our Model\n",
    "\n",
    "from sklearn.model_selection import train_test_split\n",
    "\n",
    "x_train, x_test, y_train, y_test = train_test_split(x,y, test_size = 0.2, random_state = 0)"
   ]
  },
  {
   "cell_type": "markdown",
   "id": "332efdc3",
   "metadata": {},
   "source": [
    "# Using Linear Regression Model for Training and Testing the Data"
   ]
  },
  {
   "cell_type": "code",
   "execution_count": 34,
   "id": "c665026b",
   "metadata": {},
   "outputs": [
    {
     "data": {
      "text/html": [
       "<style>#sk-container-id-1 {color: black;}#sk-container-id-1 pre{padding: 0;}#sk-container-id-1 div.sk-toggleable {background-color: white;}#sk-container-id-1 label.sk-toggleable__label {cursor: pointer;display: block;width: 100%;margin-bottom: 0;padding: 0.3em;box-sizing: border-box;text-align: center;}#sk-container-id-1 label.sk-toggleable__label-arrow:before {content: \"▸\";float: left;margin-right: 0.25em;color: #696969;}#sk-container-id-1 label.sk-toggleable__label-arrow:hover:before {color: black;}#sk-container-id-1 div.sk-estimator:hover label.sk-toggleable__label-arrow:before {color: black;}#sk-container-id-1 div.sk-toggleable__content {max-height: 0;max-width: 0;overflow: hidden;text-align: left;background-color: #f0f8ff;}#sk-container-id-1 div.sk-toggleable__content pre {margin: 0.2em;color: black;border-radius: 0.25em;background-color: #f0f8ff;}#sk-container-id-1 input.sk-toggleable__control:checked~div.sk-toggleable__content {max-height: 200px;max-width: 100%;overflow: auto;}#sk-container-id-1 input.sk-toggleable__control:checked~label.sk-toggleable__label-arrow:before {content: \"▾\";}#sk-container-id-1 div.sk-estimator input.sk-toggleable__control:checked~label.sk-toggleable__label {background-color: #d4ebff;}#sk-container-id-1 div.sk-label input.sk-toggleable__control:checked~label.sk-toggleable__label {background-color: #d4ebff;}#sk-container-id-1 input.sk-hidden--visually {border: 0;clip: rect(1px 1px 1px 1px);clip: rect(1px, 1px, 1px, 1px);height: 1px;margin: -1px;overflow: hidden;padding: 0;position: absolute;width: 1px;}#sk-container-id-1 div.sk-estimator {font-family: monospace;background-color: #f0f8ff;border: 1px dotted black;border-radius: 0.25em;box-sizing: border-box;margin-bottom: 0.5em;}#sk-container-id-1 div.sk-estimator:hover {background-color: #d4ebff;}#sk-container-id-1 div.sk-parallel-item::after {content: \"\";width: 100%;border-bottom: 1px solid gray;flex-grow: 1;}#sk-container-id-1 div.sk-label:hover label.sk-toggleable__label {background-color: #d4ebff;}#sk-container-id-1 div.sk-serial::before {content: \"\";position: absolute;border-left: 1px solid gray;box-sizing: border-box;top: 0;bottom: 0;left: 50%;z-index: 0;}#sk-container-id-1 div.sk-serial {display: flex;flex-direction: column;align-items: center;background-color: white;padding-right: 0.2em;padding-left: 0.2em;position: relative;}#sk-container-id-1 div.sk-item {position: relative;z-index: 1;}#sk-container-id-1 div.sk-parallel {display: flex;align-items: stretch;justify-content: center;background-color: white;position: relative;}#sk-container-id-1 div.sk-item::before, #sk-container-id-1 div.sk-parallel-item::before {content: \"\";position: absolute;border-left: 1px solid gray;box-sizing: border-box;top: 0;bottom: 0;left: 50%;z-index: -1;}#sk-container-id-1 div.sk-parallel-item {display: flex;flex-direction: column;z-index: 1;position: relative;background-color: white;}#sk-container-id-1 div.sk-parallel-item:first-child::after {align-self: flex-end;width: 50%;}#sk-container-id-1 div.sk-parallel-item:last-child::after {align-self: flex-start;width: 50%;}#sk-container-id-1 div.sk-parallel-item:only-child::after {width: 0;}#sk-container-id-1 div.sk-dashed-wrapped {border: 1px dashed gray;margin: 0 0.4em 0.5em 0.4em;box-sizing: border-box;padding-bottom: 0.4em;background-color: white;}#sk-container-id-1 div.sk-label label {font-family: monospace;font-weight: bold;display: inline-block;line-height: 1.2em;}#sk-container-id-1 div.sk-label-container {text-align: center;}#sk-container-id-1 div.sk-container {/* jupyter's `normalize.less` sets `[hidden] { display: none; }` but bootstrap.min.css set `[hidden] { display: none !important; }` so we also need the `!important` here to be able to override the default hidden behavior on the sphinx rendered scikit-learn.org. See: https://github.com/scikit-learn/scikit-learn/issues/21755 */display: inline-block !important;position: relative;}#sk-container-id-1 div.sk-text-repr-fallback {display: none;}</style><div id=\"sk-container-id-1\" class=\"sk-top-container\"><div class=\"sk-text-repr-fallback\"><pre>LinearRegression()</pre><b>In a Jupyter environment, please rerun this cell to show the HTML representation or trust the notebook. <br />On GitHub, the HTML representation is unable to render, please try loading this page with nbviewer.org.</b></div><div class=\"sk-container\" hidden><div class=\"sk-item\"><div class=\"sk-estimator sk-toggleable\"><input class=\"sk-toggleable__control sk-hidden--visually\" id=\"sk-estimator-id-1\" type=\"checkbox\" checked><label for=\"sk-estimator-id-1\" class=\"sk-toggleable__label sk-toggleable__label-arrow\">LinearRegression</label><div class=\"sk-toggleable__content\"><pre>LinearRegression()</pre></div></div></div></div></div>"
      ],
      "text/plain": [
       "LinearRegression()"
      ]
     },
     "execution_count": 34,
     "metadata": {},
     "output_type": "execute_result"
    }
   ],
   "source": [
    "#Importing Linear Regression from Sklearn and training the model\n",
    "\n",
    "from sklearn.linear_model import LinearRegression\n",
    "\n",
    "linear = LinearRegression()\n",
    "\n",
    "linear.fit(x_train,y_train)"
   ]
  },
  {
   "cell_type": "code",
   "execution_count": 35,
   "id": "1f01b58c",
   "metadata": {},
   "outputs": [],
   "source": [
    "#Predicting the Sales from the Independent Columns dataframe\n",
    "\n",
    "y_pred = linear.predict(x_test)"
   ]
  },
  {
   "cell_type": "code",
   "execution_count": 36,
   "id": "e92fb625",
   "metadata": {},
   "outputs": [
    {
     "data": {
      "text/plain": [
       "72.33818088232123"
      ]
     },
     "execution_count": 36,
     "metadata": {},
     "output_type": "execute_result"
    }
   ],
   "source": [
    "#Checking the mean absolute error\n",
    "\n",
    "from sklearn.metrics import mean_absolute_error\n",
    "\n",
    "mean_absolute_error(y_test,y_pred)"
   ]
  },
  {
   "cell_type": "markdown",
   "id": "8b01f3ce",
   "metadata": {},
   "source": [
    "# Using XGBoost Model for Training and Testing the Data"
   ]
  },
  {
   "cell_type": "code",
   "execution_count": 37,
   "id": "eeedb6e0",
   "metadata": {},
   "outputs": [],
   "source": [
    "#Importing XGBoost from XGBRegressor\n",
    "\n",
    "from xgboost import XGBRegressor \n",
    "\n",
    "xgb = XGBRegressor()"
   ]
  },
  {
   "cell_type": "code",
   "execution_count": 38,
   "id": "70d5f591",
   "metadata": {},
   "outputs": [],
   "source": [
    "#Training and Testing the XGBoost Model\n",
    "\n",
    "xgb.fit(x_train,y_train)\n",
    "\n",
    "y_pred_2 = xgb.predict(x_test)"
   ]
  },
  {
   "cell_type": "code",
   "execution_count": 39,
   "id": "e3bd9bc0",
   "metadata": {},
   "outputs": [
    {
     "data": {
      "text/plain": [
       "66.65009717347284"
      ]
     },
     "execution_count": 39,
     "metadata": {},
     "output_type": "execute_result"
    }
   ],
   "source": [
    "mean_absolute_error(y_test,y_pred_2)"
   ]
  },
  {
   "cell_type": "markdown",
   "id": "a24fa09b",
   "metadata": {},
   "source": [
    "**From the above results it can be observed that the XGBoost model gives less error as compared to the Linear Regression Model. Thus XGBoost Model is more efficient than the Linear Regression Model for this use case** "
   ]
  }
 ],
 "metadata": {
  "kernelspec": {
   "display_name": "Python 3 (ipykernel)",
   "language": "python",
   "name": "python3"
  },
  "language_info": {
   "codemirror_mode": {
    "name": "ipython",
    "version": 3
   },
   "file_extension": ".py",
   "mimetype": "text/x-python",
   "name": "python",
   "nbconvert_exporter": "python",
   "pygments_lexer": "ipython3",
   "version": "3.11.5"
  }
 },
 "nbformat": 4,
 "nbformat_minor": 5
}
